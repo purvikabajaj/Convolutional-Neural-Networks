{
  "nbformat": 4,
  "nbformat_minor": 0,
  "metadata": {
    "accelerator": "GPU",
    "colab": {
      "name": "CNN Cats vs Dogs VGG-16.ipynb",
      "provenance": [],
      "collapsed_sections": [],
      "include_colab_link": true
    },
    "kernelspec": {
      "display_name": "Python 3",
      "name": "python3"
    }
  },
  "cells": [
    {
      "cell_type": "markdown",
      "metadata": {
        "id": "view-in-github",
        "colab_type": "text"
      },
      "source": [
        "<a href=\"https://colab.research.google.com/github/purvikabajaj/Convolutional-Neural-Networks/blob/master/CNN_Cats_vs_Dogs_VGG_16.ipynb\" target=\"_parent\"><img src=\"https://colab.research.google.com/assets/colab-badge.svg\" alt=\"Open In Colab\"/></a>"
      ]
    },
    {
      "cell_type": "code",
      "metadata": {
        "id": "d4UYbkrFM4zO"
      },
      "source": [
        "import numpy as np\n",
        "import pandas as pd\n",
        "import matplotlib.pyplot as plt"
      ],
      "execution_count": null,
      "outputs": []
    },
    {
      "cell_type": "code",
      "metadata": {
        "colab": {
          "base_uri": "https://localhost:8080/",
          "height": 371
        },
        "id": "lJ36gke3N-4c",
        "outputId": "2ad69719-2968-4237-b808-96270608c06b"
      },
      "source": [
        "!pip install pyunpack\n",
        "!pip install patool"
      ],
      "execution_count": null,
      "outputs": [
        {
          "output_type": "stream",
          "text": [
            "Collecting pyunpack\n",
            "  Downloading https://files.pythonhosted.org/packages/83/29/020436b1d8e96e5f26fa282b9c3c13a3b456a36b9ea2edc87c5fed008369/pyunpack-0.2.2-py2.py3-none-any.whl\n",
            "Collecting easyprocess\n",
            "  Downloading https://files.pythonhosted.org/packages/48/3c/75573613641c90c6d094059ac28adb748560d99bd27ee6f80cce398f404e/EasyProcess-0.3-py2.py3-none-any.whl\n",
            "Collecting entrypoint2\n",
            "  Downloading https://files.pythonhosted.org/packages/c2/ca/00c8767568924e5c2209da99b6abdeeed9d11cbae2a713d54d041b092a09/entrypoint2-0.2.3-py2.py3-none-any.whl\n",
            "Collecting argparse\n",
            "  Downloading https://files.pythonhosted.org/packages/f2/94/3af39d34be01a24a6e65433d19e107099374224905f1e0cc6bbe1fd22a2f/argparse-1.4.0-py2.py3-none-any.whl\n",
            "Installing collected packages: easyprocess, argparse, entrypoint2, pyunpack\n",
            "Successfully installed argparse-1.4.0 easyprocess-0.3 entrypoint2-0.2.3 pyunpack-0.2.2\n"
          ],
          "name": "stdout"
        },
        {
          "output_type": "display_data",
          "data": {
            "application/vnd.colab-display-data+json": {
              "pip_warning": {
                "packages": [
                  "argparse"
                ]
              }
            }
          },
          "metadata": {
            "tags": []
          }
        },
        {
          "output_type": "stream",
          "text": [
            "Collecting patool\n",
            "\u001b[?25l  Downloading https://files.pythonhosted.org/packages/43/94/52243ddff508780dd2d8110964320ab4851134a55ab102285b46e740f76a/patool-1.12-py2.py3-none-any.whl (77kB)\n",
            "\r\u001b[K     |████▎                           | 10kB 24.2MB/s eta 0:00:01\r\u001b[K     |████████▌                       | 20kB 17.5MB/s eta 0:00:01\r\u001b[K     |████████████▊                   | 30kB 15.2MB/s eta 0:00:01\r\u001b[K     |█████████████████               | 40kB 14.7MB/s eta 0:00:01\r\u001b[K     |█████████████████████▏          | 51kB 11.3MB/s eta 0:00:01\r\u001b[K     |█████████████████████████▍      | 61kB 11.3MB/s eta 0:00:01\r\u001b[K     |█████████████████████████████▋  | 71kB 11.5MB/s eta 0:00:01\r\u001b[K     |████████████████████████████████| 81kB 6.9MB/s \n",
            "\u001b[?25hInstalling collected packages: patool\n",
            "Successfully installed patool-1.12\n"
          ],
          "name": "stdout"
        }
      ]
    },
    {
      "cell_type": "code",
      "metadata": {
        "colab": {
          "base_uri": "https://localhost:8080/"
        },
        "id": "4JPzINCBQv0M",
        "outputId": "b010eaa0-5d68-4855-d81a-d05b2dd106cb"
      },
      "source": [
        "from google.colab import drive\n",
        "drive.mount('/content/drive')"
      ],
      "execution_count": null,
      "outputs": [
        {
          "output_type": "stream",
          "text": [
            "Mounted at /content/drive\n"
          ],
          "name": "stdout"
        }
      ]
    },
    {
      "cell_type": "code",
      "metadata": {
        "id": "jvB64U9nOxO0"
      },
      "source": [
        "from pyunpack import Archive\n",
        "Archive('/content/drive/My Drive/Colab Notebooks/CatvsDogs.rar').extractall('/content')"
      ],
      "execution_count": null,
      "outputs": []
    },
    {
      "cell_type": "code",
      "metadata": {
        "id": "kXGjkW5RRHRb"
      },
      "source": [
        "import os\n",
        "filenames = os.listdir('/content/train')\n",
        "\n",
        "categories=[]\n",
        "for f_name in filenames:\n",
        "  category = f_name.split('.')[0]\n",
        "  if category =='dog':\n",
        "    categories.append(1)\n",
        "  else:\n",
        "    categories.append(0)\n",
        "\n",
        "df = pd.DataFrame({\n",
        "    'filename':filenames,\n",
        "    'category':categories\n",
        "})"
      ],
      "execution_count": null,
      "outputs": []
    },
    {
      "cell_type": "code",
      "metadata": {
        "colab": {
          "base_uri": "https://localhost:8080/",
          "height": 200
        },
        "id": "Mh3kZ32nX2fV",
        "outputId": "1040b388-ded6-41f9-a7f1-15b86c567887"
      },
      "source": [
        "df.head()"
      ],
      "execution_count": null,
      "outputs": [
        {
          "output_type": "execute_result",
          "data": {
            "text/html": [
              "<div>\n",
              "<style scoped>\n",
              "    .dataframe tbody tr th:only-of-type {\n",
              "        vertical-align: middle;\n",
              "    }\n",
              "\n",
              "    .dataframe tbody tr th {\n",
              "        vertical-align: top;\n",
              "    }\n",
              "\n",
              "    .dataframe thead th {\n",
              "        text-align: right;\n",
              "    }\n",
              "</style>\n",
              "<table border=\"1\" class=\"dataframe\">\n",
              "  <thead>\n",
              "    <tr style=\"text-align: right;\">\n",
              "      <th></th>\n",
              "      <th>filename</th>\n",
              "      <th>category</th>\n",
              "    </tr>\n",
              "  </thead>\n",
              "  <tbody>\n",
              "    <tr>\n",
              "      <th>0</th>\n",
              "      <td>cat.10781.jpg</td>\n",
              "      <td>0</td>\n",
              "    </tr>\n",
              "    <tr>\n",
              "      <th>1</th>\n",
              "      <td>cat.4333.jpg</td>\n",
              "      <td>0</td>\n",
              "    </tr>\n",
              "    <tr>\n",
              "      <th>2</th>\n",
              "      <td>dog.5852.jpg</td>\n",
              "      <td>1</td>\n",
              "    </tr>\n",
              "    <tr>\n",
              "      <th>3</th>\n",
              "      <td>cat.10773.jpg</td>\n",
              "      <td>0</td>\n",
              "    </tr>\n",
              "    <tr>\n",
              "      <th>4</th>\n",
              "      <td>dog.11606.jpg</td>\n",
              "      <td>1</td>\n",
              "    </tr>\n",
              "  </tbody>\n",
              "</table>\n",
              "</div>"
            ],
            "text/plain": [
              "        filename  category\n",
              "0  cat.10781.jpg         0\n",
              "1   cat.4333.jpg         0\n",
              "2   dog.5852.jpg         1\n",
              "3  cat.10773.jpg         0\n",
              "4  dog.11606.jpg         1"
            ]
          },
          "metadata": {
            "tags": []
          },
          "execution_count": 6
        }
      ]
    },
    {
      "cell_type": "code",
      "metadata": {
        "id": "39e2EWcybN9d"
      },
      "source": [
        "from sklearn.model_selection import train_test_split"
      ],
      "execution_count": null,
      "outputs": []
    },
    {
      "cell_type": "code",
      "metadata": {
        "colab": {
          "base_uri": "https://localhost:8080/"
        },
        "id": "WfuRJfDCZ_3y",
        "outputId": "bddb1c19-c744-4707-cb6b-f350e576a05c"
      },
      "source": [
        "df['category'] = df['category'].replace({0:'cat',1:'dog'})\n",
        "train_df, validate_df = train_test_split(df, test_size = 0.3, random_state=42)\n",
        "\n",
        "train_df = train_df.reset_index(drop=True)\n",
        "validation_df = validate_df.reset_index(drop=True)\n",
        "\n",
        "total_train = train_df.shape[0]\n",
        "print(total_train)\n",
        "total_validation = validate_df.shape[0]\n",
        "print(total_validation)"
      ],
      "execution_count": null,
      "outputs": [
        {
          "output_type": "stream",
          "text": [
            "17500\n",
            "7500\n"
          ],
          "name": "stdout"
        }
      ]
    },
    {
      "cell_type": "code",
      "metadata": {
        "id": "2wp56H7F4rdw"
      },
      "source": [
        "from tensorflow.keras.preprocessing.image import ImageDataGenerator"
      ],
      "execution_count": null,
      "outputs": []
    },
    {
      "cell_type": "code",
      "metadata": {
        "colab": {
          "base_uri": "https://localhost:8080/"
        },
        "id": "O_E_59WU4rgb",
        "outputId": "8c8c1d41-8bbd-48cf-81d9-1db73ee5fc14"
      },
      "source": [
        "train_datagen = ImageDataGenerator(\n",
        "    rescale = 1./255,\n",
        "    rotation_range = 15,\n",
        "    zoom_range = 0.2,\n",
        "    shear_range = 0.1,\n",
        "    width_shift_range = 0.1,\n",
        "    height_shift_range = 0.1,\n",
        "    horizontal_flip = True\n",
        ")\n",
        "\n",
        "train_generator = train_datagen.flow_from_dataframe(\n",
        "    train_df,\n",
        "    '/content/train',\n",
        "    x_col = 'filename',\n",
        "    y_col = 'category',\n",
        "    target_size = (64,64),\n",
        "    batch_size = 32,\n",
        "    class_mode = 'categorical'\n",
        ")"
      ],
      "execution_count": null,
      "outputs": [
        {
          "output_type": "stream",
          "text": [
            "Found 17500 validated image filenames belonging to 2 classes.\n"
          ],
          "name": "stdout"
        }
      ]
    },
    {
      "cell_type": "code",
      "metadata": {
        "colab": {
          "base_uri": "https://localhost:8080/",
          "height": 286
        },
        "id": "uXRJp02J4ri3",
        "outputId": "97f42a68-e279-42db-9cfa-fb9238584eef"
      },
      "source": [
        "x,y = train_generator.next()\n",
        "\n",
        "for i in range(0,1):\n",
        "  image = x[i]\n",
        "  plt.imshow(image)\n",
        "  print(image.shape)"
      ],
      "execution_count": null,
      "outputs": [
        {
          "output_type": "stream",
          "text": [
            "(64, 64, 3)\n"
          ],
          "name": "stdout"
        },
        {
          "output_type": "display_data",
          "data": {
            "image/png": "[encoded data removed]",
            "text/plain": [
              "<Figure size 432x288 with 1 Axes>"
            ]
          },
          "metadata": {
            "tags": [],
            "needs_background": "light"
          }
        }
      ]
    },
    {
      "cell_type": "code",
      "metadata": {
        "colab": {
          "base_uri": "https://localhost:8080/"
        },
        "id": "QyxRuvFW4rk5",
        "outputId": "b7793f17-c4e9-4c80-acf9-2c594a3d057c"
      },
      "source": [
        "validation_datagen = ImageDataGenerator(rescale=1./255)\n",
        "\n",
        "validation_generator = validation_datagen.flow_from_dataframe(\n",
        "    validation_df,\n",
        "    '/content/train',\n",
        "    x_col = 'filename',\n",
        "    y_col = 'category', \n",
        "    target_size = (64,64),\n",
        "    batch_size = 32,\n",
        "    class_mode = 'categorical'\n",
        ")"
      ],
      "execution_count": null,
      "outputs": [
        {
          "output_type": "stream",
          "text": [
            "Found 7500 validated image filenames belonging to 2 classes.\n"
          ],
          "name": "stdout"
        }
      ]
    },
    {
      "cell_type": "code",
      "metadata": {
        "colab": {
          "base_uri": "https://localhost:8080/",
          "height": 286
        },
        "id": "CD6EdCSV44MP",
        "outputId": "9e375ef9-cf4b-44bd-8161-e78f3e0153a7"
      },
      "source": [
        "x,y = validation_generator.next()\n",
        "\n",
        "for i in range(0,1):\n",
        "  image = x[i]\n",
        "  plt.imshow(image)\n",
        "  print(image.shape)"
      ],
      "execution_count": null,
      "outputs": [
        {
          "output_type": "stream",
          "text": [
            "(64, 64, 3)\n"
          ],
          "name": "stdout"
        },
        {
          "output_type": "display_data",
          "data": {
            "image/png": "[encoded data removed]",
            "text/plain": [
              "<Figure size 432x288 with 1 Axes>"
            ]
          },
          "metadata": {
            "tags": [],
            "needs_background": "light"
          }
        }
      ]
    },
    {
      "cell_type": "code",
      "metadata": {
        "id": "GmeyxA4939Gk"
      },
      "source": [
        "from tensorflow.keras.applications.vgg16 import VGG16\n",
        "from tensorflow.keras import layers\n",
        "from tensorflow.keras import Model"
      ],
      "execution_count": null,
      "outputs": []
    },
    {
      "cell_type": "code",
      "metadata": {
        "id": "VWE8r7qKzfdZ",
        "colab": {
          "base_uri": "https://localhost:8080/"
        },
        "outputId": "99479f7b-5cd9-4fc5-8d4c-c6b29f35155a"
      },
      "source": [
        "model = VGG16(weights = 'imagenet', include_top = False)\n",
        "\n",
        "x = model.output\n",
        "x = layers.GlobalAveragePooling2D()(x)\n",
        "x = layers.Dense(512, activation='relu')(x)\n",
        "x = layers.Dense(2, activation='softmax')(x)\n",
        "\n",
        "model_vgg = Model(model.input, x)\n",
        "\n",
        "for layer in model.layers:\n",
        "  layer.trainable = False"
      ],
      "execution_count": null,
      "outputs": [
        {
          "output_type": "stream",
          "text": [
            "Downloading data from https://storage.googleapis.com/tensorflow/keras-applications/vgg16/vgg16_weights_tf_dim_ordering_tf_kernels_notop.h5\n",
            "58892288/58889256 [==============================] - 1s 0us/step\n"
          ],
          "name": "stdout"
        }
      ]
    },
    {
      "cell_type": "code",
      "metadata": {
        "id": "NgAsV5DliPcg"
      },
      "source": [
        "model_vgg.compile(loss='categorical_crossentropy', optimizer = 'adam', metrics=['accuracy'])"
      ],
      "execution_count": null,
      "outputs": []
    },
    {
      "cell_type": "code",
      "metadata": {
        "id": "dxLYHV1u4B0k"
      },
      "source": [
        "import tensorflow as tf"
      ],
      "execution_count": null,
      "outputs": []
    },
    {
      "cell_type": "code",
      "metadata": {
        "colab": {
          "base_uri": "https://localhost:8080/"
        },
        "id": "83dnvZGzS5wk",
        "outputId": "fa81d9f8-916f-4000-c8f5-a184fdbabeb4"
      },
      "source": [
        "batch_size=32\n",
        "history = model_vgg.fit_generator(\n",
        "    train_generator,\n",
        "    steps_per_epoch = total_train//batch_size,\n",
        "    epochs = 15,\n",
        "    validation_data = validation_generator,\n",
        "    verbose=1,\n",
        "    validation_steps = total_validation//batch_size,\n",
        "    callbacks = tf.keras.callbacks.EarlyStopping(monitor='val_loss', patience=5)\n",
        ")"
      ],
      "execution_count": null,
      "outputs": [
        {
          "output_type": "stream",
          "text": [
            "WARNING:tensorflow:From <ipython-input-18-44047223ea9e>:9: Model.fit_generator (from tensorflow.python.keras.engine.training) is deprecated and will be removed in a future version.\n",
            "Instructions for updating:\n",
            "Please use Model.fit, which supports generators.\n",
            "Epoch 1/15\n",
            "546/546 [==============================] - 88s 161ms/step - loss: 0.5103 - accuracy: 0.7432 - val_loss: 0.4486 - val_accuracy: 0.7871\n",
            "Epoch 2/15\n",
            "546/546 [==============================] - 86s 158ms/step - loss: 0.4778 - accuracy: 0.7687 - val_loss: 0.4285 - val_accuracy: 0.7963\n",
            "Epoch 3/15\n",
            "546/546 [==============================] - 86s 158ms/step - loss: 0.4583 - accuracy: 0.7745 - val_loss: 0.4513 - val_accuracy: 0.7827\n",
            "Epoch 4/15\n",
            "546/546 [==============================] - 87s 159ms/step - loss: 0.4550 - accuracy: 0.7809 - val_loss: 0.4369 - val_accuracy: 0.7910\n",
            "Epoch 5/15\n",
            "546/546 [==============================] - 87s 159ms/step - loss: 0.4456 - accuracy: 0.7864 - val_loss: 0.4184 - val_accuracy: 0.7994\n",
            "Epoch 6/15\n",
            "546/546 [==============================] - 85s 155ms/step - loss: 0.4364 - accuracy: 0.7925 - val_loss: 0.4206 - val_accuracy: 0.7986\n",
            "Epoch 7/15\n",
            "546/546 [==============================] - 84s 154ms/step - loss: 0.4381 - accuracy: 0.7912 - val_loss: 0.4280 - val_accuracy: 0.8037\n",
            "Epoch 8/15\n",
            "546/546 [==============================] - 84s 154ms/step - loss: 0.4290 - accuracy: 0.7965 - val_loss: 0.4156 - val_accuracy: 0.8061\n",
            "Epoch 9/15\n",
            "546/546 [==============================] - 84s 154ms/step - loss: 0.4261 - accuracy: 0.7984 - val_loss: 0.4165 - val_accuracy: 0.8052\n",
            "Epoch 10/15\n",
            "546/546 [==============================] - 84s 153ms/step - loss: 0.4224 - accuracy: 0.8018 - val_loss: 0.4169 - val_accuracy: 0.8022\n",
            "Epoch 11/15\n",
            "546/546 [==============================] - 85s 155ms/step - loss: 0.4174 - accuracy: 0.8048 - val_loss: 0.4169 - val_accuracy: 0.8065\n",
            "Epoch 12/15\n",
            "546/546 [==============================] - 84s 154ms/step - loss: 0.4150 - accuracy: 0.8049 - val_loss: 0.4121 - val_accuracy: 0.8078\n",
            "Epoch 13/15\n",
            "546/546 [==============================] - 84s 153ms/step - loss: 0.4109 - accuracy: 0.8093 - val_loss: 0.4056 - val_accuracy: 0.8089\n",
            "Epoch 14/15\n",
            "546/546 [==============================] - 85s 155ms/step - loss: 0.4065 - accuracy: 0.8089 - val_loss: 0.4095 - val_accuracy: 0.8110\n",
            "Epoch 15/15\n",
            "546/546 [==============================] - 82s 151ms/step - loss: 0.4023 - accuracy: 0.8121 - val_loss: 0.4090 - val_accuracy: 0.8081\n"
          ],
          "name": "stdout"
        }
      ]
    },
    {
      "cell_type": "code",
      "metadata": {
        "id": "hoi5IJAUGlmN",
        "colab": {
          "base_uri": "https://localhost:8080/",
          "height": 513
        },
        "outputId": "e8e71d97-b093-4b62-9b73-4c2495abe835"
      },
      "source": [
        "acc = history.history['accuracy']\n",
        "val_acc = history.history['val_accuracy']\n",
        "loss = history.history['loss']\n",
        "val_loss = history.history['val_loss']\n",
        "\n",
        "epochs = range(len(acc))\n",
        "\n",
        "plt.plot(epochs, acc, label='Training Accuracy')\n",
        "plt.plot(epochs, val_acc, label='Validation Accuracy')\n",
        "plt.legend()\n",
        "\n",
        "plt.figure()\n",
        "\n",
        "plt.plot(epochs, loss, label='Training Loss')\n",
        "plt.plot(epochs, val_loss, label='Validation Loss')\n",
        "plt.legend()\n",
        "plt.show()"
      ],
      "execution_count": null,
      "outputs": [
        {
          "output_type": "display_data",
          "data": {
            "image/png": "[encoded data removed]",
            "text/plain": [
              "<Figure size 432x288 with 1 Axes>"
            ]
          },
          "metadata": {
            "tags": [],
            "needs_background": "light"
          }
        },
        {
          "output_type": "display_data",
          "data": {
            "image/png": "[encoded data removed]",
            "text/plain": [
              "<Figure size 432x288 with 1 Axes>"
            ]
          },
          "metadata": {
            "tags": [],
            "needs_background": "light"
          }
        }
      ]
    },
    {
      "cell_type": "code",
      "metadata": {
        "id": "BCcEXBqDtL5k"
      },
      "source": [
        ""
      ],
      "execution_count": null,
      "outputs": []
    }
  ]
}